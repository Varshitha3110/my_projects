{
 "cells": [
  {
   "cell_type": "markdown",
   "id": "4584f48c",
   "metadata": {},
   "source": [
    "# 🎬 Movie Recommendation System\n",
    "\n",
    "---\n",
    "\n",
    "## 📖 Introduction\n",
    "\n",
    "In today's world of overwhelming choices, finding the right movie to watch can be a challenge. This project builds a **Content-Based Recommendation System** that suggests similar movies based on their description, genre, cast, and other features."
   ]
  },
  {
   "cell_type": "markdown",
   "id": "5c7b570f",
   "metadata": {},
   "source": [
    "## 🛠️ Project Workflow\n",
    "1. Import necessary libraries\n",
    "2. Load the datasets\n",
    "3. Perform Exploratory Data Analysis (EDA)\n",
    "4. Data Preprocessing and Feature Engineering\n",
    "5. Building the Recommendation System\n",
    "6. Creating a Recommendation Function\n",
    "7. (Bonus) Deployment Strategy"
   ]
  },
  {
   "cell_type": "markdown",
   "id": "56748a02",
   "metadata": {},
   "source": [
    "# 1. 📚 Import Libraries"
   ]
  },
  {
   "cell_type": "code",
   "execution_count": null,
   "id": "d27ed2f1",
   "metadata": {},
   "outputs": [],
   "source": [
    "\n",
    "# Importing essential libraries\n",
    "import numpy as np\n",
    "import pandas as pd\n",
    "import matplotlib.pyplot as plt\n",
    "import seaborn as sns\n",
    "import nltk\n",
    "import ast\n",
    "from sklearn.feature_extraction.text import TfidfVectorizer\n",
    "from sklearn.metrics.pairwise import cosine_similarity\n",
    "import warnings\n",
    "warnings.filterwarnings(\"ignore\")\n"
   ]
  },
  {
   "cell_type": "markdown",
   "id": "bb7e9a91",
   "metadata": {},
   "source": [
    "# 2. 📂 Load the Data"
   ]
  },
  {
   "cell_type": "code",
   "execution_count": null,
   "id": "3300631e",
   "metadata": {},
   "outputs": [],
   "source": [
    "\n",
    "# Loading movie details dataset\n",
    "movies = pd.read_csv(\"tmdb_5000_movies.csv\")\n",
    "\n",
    "# Loading credits dataset\n",
    "credits = pd.read_csv(\"tmdb_5000_credits.csv\")\n"
   ]
  },
  {
   "cell_type": "markdown",
   "id": "4380dd26",
   "metadata": {},
   "source": [
    "# 3. 👀 Initial Data Exploration"
   ]
  },
  {
   "cell_type": "code",
   "execution_count": null,
   "id": "36fd7bc4",
   "metadata": {},
   "outputs": [],
   "source": [
    "\n",
    "# Checking the structure of datasets\n",
    "print(movies.shape)\n",
    "print(credits.shape)\n",
    "\n",
    "movies.head(2)\n"
   ]
  },
  {
   "cell_type": "markdown",
   "id": "02fc2c7b",
   "metadata": {},
   "source": [
    "# 4. 🔗 Merge Datasets"
   ]
  },
  {
   "cell_type": "code",
   "execution_count": null,
   "id": "f4d3d4b2",
   "metadata": {},
   "outputs": [],
   "source": [
    "\n",
    "# Merging on 'title' column\n",
    "movies = movies.merge(credits, on='title')\n",
    "\n",
    "movies.shape\n"
   ]
  },
  {
   "cell_type": "markdown",
   "id": "aa8b2c4e",
   "metadata": {},
   "source": [
    "# 5. 🧹 Data Preprocessing"
   ]
  },
  {
   "cell_type": "code",
   "execution_count": null,
   "id": "7c856c29",
   "metadata": {},
   "outputs": [],
   "source": [
    "\n",
    "# Keeping useful columns\n",
    "movies = movies[['movie_id','title','overview','genres','keywords','cast','crew']]\n",
    "\n",
    "# Checking for missing values\n",
    "movies.isnull().sum()\n"
   ]
  },
  {
   "cell_type": "code",
   "execution_count": null,
   "id": "a47a8401",
   "metadata": {},
   "outputs": [],
   "source": [
    "\n",
    "# Drop rows with null values\n",
    "movies.dropna(inplace=True)\n"
   ]
  },
  {
   "cell_type": "markdown",
   "id": "f17a0f2d",
   "metadata": {},
   "source": [
    "# 6. 🛠️ Feature Engineering"
   ]
  },
  {
   "cell_type": "code",
   "execution_count": null,
   "id": "52cf298e",
   "metadata": {},
   "outputs": [],
   "source": [
    "\n",
    "# Function to extract names from genres, keywords, cast, crew\n",
    "def extract_names(obj):\n",
    "    L = []\n",
    "    for i in ast.literal_eval(obj):\n",
    "        L.append(i['name'])\n",
    "    return L\n",
    "\n",
    "movies['genres'] = movies['genres'].apply(extract_names)\n",
    "movies['keywords'] = movies['keywords'].apply(extract_names)\n",
    "\n",
    "# Extract top 3 cast members\n",
    "def extract_cast(obj):\n",
    "    L = []\n",
    "    counter = 0\n",
    "    for i in ast.literal_eval(obj):\n",
    "        if counter < 3:\n",
    "            L.append(i['name'])\n",
    "            counter += 1\n",
    "        else:\n",
    "            break\n",
    "    return L\n",
    "\n",
    "movies['cast'] = movies['cast'].apply(extract_cast)\n",
    "\n",
    "# Extract director's name\n",
    "def extract_director(obj):\n",
    "    L = []\n",
    "    for i in ast.literal_eval(obj):\n",
    "        if i['job'] == 'Director':\n",
    "            L.append(i['name'])\n",
    "            break\n",
    "    return L\n",
    "\n",
    "movies['crew'] = movies['crew'].apply(extract_director)\n"
   ]
  },
  {
   "cell_type": "code",
   "execution_count": null,
   "id": "f21faf70",
   "metadata": {},
   "outputs": [],
   "source": [
    "\n",
    "# Overview is a string, we split into list of words\n",
    "movies['overview'] = movies['overview'].apply(lambda x: x.split())\n",
    "\n",
    "# Removing spaces in multi-word names\n",
    "movies['genres'] = movies['genres'].apply(lambda x: [i.replace(\" \",\"\") for i in x])\n",
    "movies['keywords'] = movies['keywords'].apply(lambda x: [i.replace(\" \",\"\") for i in x])\n",
    "movies['cast'] = movies['cast'].apply(lambda x: [i.replace(\" \",\"\") for i in x])\n",
    "movies['crew'] = movies['crew'].apply(lambda x: [i.replace(\" \",\"\") for i in x])\n"
   ]
  },
  {
   "cell_type": "markdown",
   "id": "11075d52",
   "metadata": {},
   "source": [
    "# 7. 🏷️ Creating Tags"
   ]
  },
  {
   "cell_type": "code",
   "execution_count": null,
   "id": "71f486b4",
   "metadata": {},
   "outputs": [],
   "source": [
    "\n",
    "# Combining all features into a single 'tags' column\n",
    "movies['tags'] = movies['overview'] + movies['genres'] + movies['keywords'] + movies['cast'] + movies['crew']\n",
    "\n",
    "# Creating a new DataFrame with useful columns\n",
    "new = movies[['movie_id','title','tags']]\n",
    "\n",
    "# Convert list of words into space separated string\n",
    "new['tags'] = new['tags'].apply(lambda x: \" \".join(x))\n",
    "\n",
    "new.head()\n"
   ]
  },
  {
   "cell_type": "markdown",
   "id": "8fa66336",
   "metadata": {},
   "source": [
    "# 8. 🔡 Text Preprocessing"
   ]
  },
  {
   "cell_type": "code",
   "execution_count": null,
   "id": "13cb925e",
   "metadata": {},
   "outputs": [],
   "source": [
    "\n",
    "# Convert tags to lowercase for uniformity\n",
    "new['tags'] = new['tags'].apply(lambda x: x.lower())\n"
   ]
  },
  {
   "cell_type": "markdown",
   "id": "dae4b7a7",
   "metadata": {},
   "source": [
    "# 9. ✨ Vectorization"
   ]
  },
  {
   "cell_type": "code",
   "execution_count": null,
   "id": "15a230db",
   "metadata": {},
   "outputs": [],
   "source": [
    "\n",
    "# Initializing TF-IDF Vectorizer\n",
    "tfidf = TfidfVectorizer(max_features=5000, stop_words='english')\n",
    "\n",
    "# Fitting and transforming the 'tags'\n",
    "vectors = tfidf.fit_transform(new['tags']).toarray()\n",
    "\n",
    "vectors.shape\n"
   ]
  },
  {
   "cell_type": "markdown",
   "id": "e0721ad7",
   "metadata": {},
   "source": [
    "# 10. 📏 Calculate Similarity"
   ]
  },
  {
   "cell_type": "code",
   "execution_count": null,
   "id": "e9e17e0f",
   "metadata": {},
   "outputs": [],
   "source": [
    "\n",
    "# Calculating cosine similarity between all movies\n",
    "similarity = cosine_similarity(vectors)\n"
   ]
  },
  {
   "cell_type": "markdown",
   "id": "0dae0b4c",
   "metadata": {},
   "source": [
    "# 11. 🎬 Recommendation Function"
   ]
  },
  {
   "cell_type": "code",
   "execution_count": null,
   "id": "9cb3a8dc",
   "metadata": {},
   "outputs": [],
   "source": [
    "\n",
    "# Recommender function\n",
    "def recommend(movie):\n",
    "    movie = movie.lower()\n",
    "    if movie not in new['title'].str.lower().values:\n",
    "        return \"Movie not found. Please check the spelling.\"\n",
    "    \n",
    "    index = new[new['title'].str.lower() == movie].index[0]\n",
    "    distances = similarity[index]\n",
    "    movies_list = sorted(list(enumerate(distances)),reverse=True,key=lambda x:x[1])[1:6]\n",
    "    \n",
    "    for i in movies_list:\n",
    "        print(new.iloc[i[0]].title)\n"
   ]
  },
  {
   "cell_type": "code",
   "execution_count": null,
   "id": "fcbec0f6",
   "metadata": {},
   "outputs": [],
   "source": [
    "\n",
    "# Example usage\n",
    "recommend('Avatar')\n"
   ]
  },
  {
   "cell_type": "markdown",
   "id": "7f232807",
   "metadata": {},
   "source": [
    "# 🚀 Deployment (Streamlit App Guide)"
   ]
  },
  {
   "cell_type": "markdown",
   "id": "24c13b7a",
   "metadata": {},
   "source": [
    "\n",
    "## How to Deploy this Project using Streamlit:\n",
    "\n",
    "1. Install Streamlit:\n",
    "```bash\n",
    "pip install streamlit\n",
    "```\n",
    "\n",
    "2. Create a file called `app.py`:\n",
    "```python\n",
    "import streamlit as st\n",
    "import pickle\n",
    "\n",
    "# Load saved data (vectors and movie data)\n",
    "new = pickle.load(open('movies.pkl','rb'))\n",
    "similarity = pickle.load(open('similarity.pkl','rb'))\n",
    "\n",
    "def recommend(movie):\n",
    "    movie = movie.lower()\n",
    "    if movie not in new['title'].str.lower().values:\n",
    "        return [\"Movie not found\"]\n",
    "    index = new[new['title'].str.lower() == movie].index[0]\n",
    "    distances = similarity[index]\n",
    "    movies_list = sorted(list(enumerate(distances)),reverse=True,key=lambda x:x[1])[1:6]\n",
    "    return [new.iloc[i[0]].title for i in movies_list]\n",
    "\n",
    "st.title('Movie Recommendation System')\n",
    "\n",
    "movie = st.text_input('Enter Movie Name')\n",
    "if st.button('Recommend'):\n",
    "    recommendations = recommend(movie)\n",
    "    for i in recommendations:\n",
    "        st.write(i)\n",
    "```\n",
    "\n",
    "3. Save your model and similarity matrix:\n",
    "```python\n",
    "import pickle\n",
    "pickle.dump(new,open('movies.pkl','wb'))\n",
    "pickle.dump(similarity,open('similarity.pkl','wb'))\n",
    "```\n",
    "\n",
    "4. Run the Streamlit app:\n",
    "```bash\n",
    "streamlit run app.py\n",
    "```\n",
    "\n",
    "---\n",
    "\n",
    "🎉 Congratulations! You now have a working Movie Recommendation System with deployment!\n"
   ]
  }
 ],
 "metadata": {},
 "nbformat": 4,
 "nbformat_minor": 5
}
